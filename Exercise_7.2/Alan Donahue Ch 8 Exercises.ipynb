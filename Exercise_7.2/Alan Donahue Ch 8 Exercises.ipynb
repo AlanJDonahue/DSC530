{
 "cells": [
  {
   "cell_type": "markdown",
   "metadata": {},
   "source": [
    "# Alan Donahue Ch 8 Exercises\n",
    "\n",
    "http://thinkstats2.com\n",
    "\n",
    "Copyright 2016 Allen B. Downey\n",
    "\n",
    "MIT License: https://opensource.org/licenses/MIT\n"
   ]
  },
  {
   "cell_type": "code",
   "execution_count": 26,
   "metadata": {},
   "outputs": [],
   "source": [
    "from __future__ import print_function, division\n",
    "\n",
    "%matplotlib inline\n",
    "\n",
    "import numpy as np\n",
    "\n",
    "import brfss\n",
    "\n",
    "import thinkstats2\n",
    "import thinkplot"
   ]
  },
  {
   "cell_type": "markdown",
   "metadata": {},
   "source": [
    "**Exercise:**  In this chapter we used $\\bar{x}$ and median to estimate µ, and found that $\\bar{x}$ yields lower MSE. Also, we used $S^2$ and $S_{n-1}^2$ to estimate σ, and found that $S^2$ is biased and $S_{n-1}^2$ unbiased.\n",
    "Run similar experiments to see if $\\bar{x}$ and median are biased estimates of µ. Also check whether $S^2$ or $S_{n-1}^2$ yields a lower MSE."
   ]
  },
  {
   "cell_type": "code",
   "execution_count": 27,
   "metadata": {},
   "outputs": [
    {
     "name": "stdout",
     "output_type": "stream",
     "text": [
      "Experiment 1\n",
      "Mean Error xbar: 0.002416481432980333\n",
      "Mean Error Median: 0.0002991177284480211\n",
      "\n",
      "Experiment 1\n",
      "Mean Error xbar: 0.0002490259853092899\n",
      "Mean Error Median: -7.844865721920528e-05\n"
     ]
    }
   ],
   "source": [
    "import random\n",
    "\n",
    "def MeanError(estimates, actual):\n",
    "    \"\"\"Computes the mean error of a sequence of estimates.\n",
    "\n",
    "    estimate: sequence of numbers\n",
    "    actual: actual value\n",
    "\n",
    "    returns: float mean error\n",
    "    \"\"\"\n",
    "    errors = [estimate-actual for estimate in estimates]\n",
    "    return np.mean(errors)\n",
    "\n",
    "\n",
    "def firstEstimate(n = 7, iters = 30_000):\n",
    "    \"\"\"\n",
    "    n: sample size\n",
    "    iters: number of iterations\n",
    "    \"\"\"\n",
    "    mu = 0\n",
    "    sigma = 1\n",
    "\n",
    "    means = []\n",
    "    medians = []\n",
    "    for i in range(iters):\n",
    "        xs = [random.gauss(mu, sigma) for j in range(n)]\n",
    "        xbar = np.mean(xs)\n",
    "        median = np.median(xs)\n",
    "        means.append(xbar)\n",
    "        medians.append(median)\n",
    "\n",
    "    print('Experiment 1')\n",
    "    print(f\"Mean Error xbar: {MeanError(means, mu)}\")\n",
    "    print(f\"Mean Error Median: {MeanError(medians, mu)}\")\n",
    "    \n",
    "    \n",
    "firstEstimate()\n",
    "print()\n",
    "firstEstimate(7, 100_000)\n",
    "\n"
   ]
  },
  {
   "cell_type": "markdown",
   "metadata": {},
   "source": [
    "As the number of iterations increases, the mean error xbar and median get closer to 0. "
   ]
  },
  {
   "cell_type": "code",
   "execution_count": 28,
   "metadata": {},
   "outputs": [
    {
     "name": "stdout",
     "output_type": "stream",
     "text": [
      "Experiment 2\n",
      "RMSE biased: 0.5203789936792917\n",
      "RMSE unbiased: 0.5846338688970953\n",
      "\n",
      "Experiment 2\n",
      "RMSE biased: 0.5149338234639507\n",
      "RMSE unbiased: 0.5772246510289456\n"
     ]
    }
   ],
   "source": [
    "def RMSE(estimates, actual):\n",
    "    \"\"\"Computes the root mean squared error of a sequence of estimates.\n",
    "\n",
    "    estimate: sequence of numbers\n",
    "    actual: actual value\n",
    "\n",
    "    returns: float RMSE\n",
    "    \"\"\"\n",
    "    e2 = [(estimate-actual)**2 for estimate in estimates]\n",
    "    mse = np.mean(e2)\n",
    "    return np.sqrt(mse)\n",
    "\n",
    "def secondEstimate(n = 7, iters = 30_000):\n",
    "    \"\"\"\n",
    "    RMSE for biased and unbiased\n",
    "    n: sample size\n",
    "    iters: number of iterations\n",
    "    \"\"\"\n",
    "    \n",
    "    mu = 0\n",
    "    sigma = 1\n",
    "    \n",
    "    estimates1 = []\n",
    "    estimates2 = []\n",
    "    for i in range(iters):\n",
    "        xs = [random.gauss(mu, sigma) for j in range(n)]\n",
    "        biased = np.var(xs)\n",
    "        unbiased = np.var(xs, ddof = 1)\n",
    "        estimates1.append(biased)\n",
    "        estimates2.append(unbiased)\n",
    "        \n",
    "    print(\"Experiment 2\")\n",
    "    print(f\"RMSE biased: {RMSE(estimates1, sigma**2)}\")\n",
    "    print(f\"RMSE unbiased: {RMSE(estimates2, sigma**2)}\")\n",
    "    \n",
    "secondEstimate()\n",
    "print()\n",
    "secondEstimate(7, 100_000)\n"
   ]
  },
  {
   "cell_type": "markdown",
   "metadata": {},
   "source": [
    "The biased RMSE produces a lower RMSE than the unbiased estimator. "
   ]
  },
  {
   "cell_type": "markdown",
   "metadata": {},
   "source": [
    "**Exercise:** Suppose you draw a sample with size n=10 from an exponential distribution with λ=2. Simulate this experiment 1000 times and plot the sampling distribution of the estimate L. Compute the standard error of the estimate and the 90% confidence interval.\n",
    "\n",
    "Repeat the experiment with a few different values of `n` and make a plot of standard error versus `n`.\n",
    "\n"
   ]
  },
  {
   "cell_type": "code",
   "execution_count": 29,
   "metadata": {},
   "outputs": [
    {
     "name": "stdout",
     "output_type": "stream",
     "text": [
      "Standard Error: 0.8262470455984311\n",
      "Confidence interval: (1.268409000436799, 3.6216500029913448)\n",
      "\n",
      "Standard Error: 0.29114091614073756\n",
      "Confidence interval: (1.6060983269115041, 2.5562855516634113)\n"
     ]
    },
    {
     "data": {
      "text/plain": [
       "0.29114091614073756"
      ]
     },
     "execution_count": 29,
     "metadata": {},
     "output_type": "execute_result"
    },
    {
     "data": {
      "image/png": "[encoded data removed]",
      "text/plain": [
       "<Figure size 432x288 with 1 Axes>"
      ]
     },
     "metadata": {
      "needs_background": "light"
     },
     "output_type": "display_data"
    }
   ],
   "source": [
    "def verticalLine(x, y = 1):\n",
    "    thinkplot.Plot([x, x], [0, y], color = \"0.5\", linewidth = 4)\n",
    "\n",
    "def sampleExperiment(lam = 2, n = 10, iters = 1_000):\n",
    "    \"\"\"\n",
    "    lam: parameter of an exponetial distribution\n",
    "    n: sample size\n",
    "    iters: number of iterations\n",
    "    \"\"\"\n",
    "    \n",
    "    estimates = []\n",
    "    for i in range(iters):\n",
    "        xs = np.random.exponential(1 / lam, n)\n",
    "        lamhat = 1 / np.mean(xs)\n",
    "        estimates.append(lamhat)\n",
    "        \n",
    "    stderr = RMSE(estimates, lam)\n",
    "    print(f\"Standard Error: {stderr}\")\n",
    "    \n",
    "    cdf = thinkstats2.Cdf(estimates)\n",
    "    ci = cdf.Percentile(5), cdf.Percentile(95)\n",
    "    print(f\"Confidence interval: {ci}\")\n",
    "    \n",
    "    verticalLine(ci[0])\n",
    "    verticalLine(ci[1])\n",
    "    \n",
    "    thinkplot.Cdf(cdf)\n",
    "    thinkplot.config(xlabel = \"estimate\",\n",
    "                     ylabel = \"CDF\")\n",
    "    \n",
    "    return stderr\n",
    "\n",
    "sampleExperiment()\n",
    "print()\n",
    "sampleExperiment(2, 50, 1_000)\n"
   ]
  },
  {
   "cell_type": "markdown",
   "metadata": {},
   "source": [
    "When the sample size is equal to 10, the Standard Error is .737 and the confidence interval is from 1.266 to 3.432. When the sample size increases (n = 50), the Standard Error becomes smaller and the confidence interval shrinks."
   ]
  }
 ],
 "metadata": {
  "kernelspec": {
   "display_name": "Python 3 (ipykernel)",
   "language": "python",
   "name": "python3"
  },
  "language_info": {
   "codemirror_mode": {
    "name": "ipython",
    "version": 3
   },
   "file_extension": ".py",
   "mimetype": "text/x-python",
   "name": "python",
   "nbconvert_exporter": "python",
   "pygments_lexer": "ipython3",
   "version": "3.8.8"
  }
 },
 "nbformat": 4,
 "nbformat_minor": 1
}
