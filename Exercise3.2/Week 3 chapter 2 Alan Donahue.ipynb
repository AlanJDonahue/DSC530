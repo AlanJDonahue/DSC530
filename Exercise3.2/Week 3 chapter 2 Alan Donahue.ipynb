{
 "cells": [
  {
   "cell_type": "markdown",
   "id": "752a6211",
   "metadata": {},
   "source": [
    "# Week 3 Chapter 2 Alan Donahue\n",
    "\n",
    "# Exercise 2.1"
   ]
  },
  {
   "cell_type": "markdown",
   "id": "0c5c0b6f",
   "metadata": {},
   "source": [
    "If I wanted to reassure an anxious patient, I would use Cohen's d to show that there isn't much of a difference between a first born and other babies. I would also explain the mean pregnancy length is 38.6 weeks with a standard deviation of 2.7 weeks to give the patient a good time window of when to expect their baby."
   ]
  },
  {
   "cell_type": "markdown",
   "id": "c4485b23",
   "metadata": {},
   "source": [
    "In order to get on the news cycle, I would focus on the tails of the distribution. The tails are more extreme so it may look farther apart which could help with getting picked up on the news.\n",
    "\n"
   ]
  },
  {
   "cell_type": "markdown",
   "id": "d367b9c9",
   "metadata": {},
   "source": [
    "As Cecil Adams:\n",
    "Do first babies arrive late?\n",
    "\n",
    "Based on the results from the pregnancy data set, it is clear that there is a small effect size between when first babies arrive and when other babies arrive. The effect size is equal .078 weeks or 13 hours, which is about a difference of 0.2%. \n",
    "\n",
    "It may seem like first babies arrive late because of personal antedotes and because of the standard deviation of pregnancies. Typically, most pregnancies average around 38.6 weeks. However, the standard deviation is 2.7 weeks which can give a big window for when a baby may be born."
   ]
  },
  {
   "cell_type": "markdown",
   "id": "e6509c83",
   "metadata": {},
   "source": [
    "# Exercise 2.4"
   ]
  },
  {
   "cell_type": "code",
   "execution_count": 6,
   "id": "07ca8158",
   "metadata": {},
   "outputs": [],
   "source": [
    "%matplotlib inline\n",
    "import numpy as np\n",
    "import nsfg\n",
    "import first\n",
    "import thinkstats2\n",
    "import thinkplot"
   ]
  },
  {
   "cell_type": "code",
   "execution_count": 7,
   "id": "f5e6f3c7",
   "metadata": {},
   "outputs": [],
   "source": [
    "preg = nsfg.ReadFemPreg()\n",
    "live = preg[preg.outcome == 1] "
   ]
  },
  {
   "cell_type": "code",
   "execution_count": 8,
   "id": "fdaa0855",
   "metadata": {},
   "outputs": [
    {
     "data": {
      "image/png": "[encoded data removed]",
      "text/plain": [
       "<Figure size 432x288 with 1 Axes>"
      ]
     },
     "metadata": {
      "needs_background": "light"
     },
     "output_type": "display_data"
    }
   ],
   "source": [
    "hist = thinkstats2.Hist(live.birthwgt_lb, label=\"birthwgt_lb\")\n",
    "thinkplot.Hist(hist)\n",
    "thinkplot.Config(xlabel=\"Birth weight (pounds)\", ylabel = \"Count\")"
   ]
  },
  {
   "cell_type": "code",
   "execution_count": 9,
   "id": "b2a649d7",
   "metadata": {},
   "outputs": [],
   "source": [
    "firsts = live[live.birthord == 1]\n",
    "others = live[live.birthord != 1]"
   ]
  },
  {
   "cell_type": "code",
   "execution_count": 11,
   "id": "74b63d52",
   "metadata": {},
   "outputs": [],
   "source": [
    "def CohenEffectSize(group1, group2):\n",
    "    \"\"\"\n",
    "    Computes Cohen's effect size for two groups\n",
    "    \n",
    "    group1: series or dataframe\n",
    "    group2: series or dataframe\n",
    "    \n",
    "    returns: float or series\n",
    "    \"\"\"\n",
    "    \n",
    "    diff = group1.mean() - group2.mean()\n",
    "    \n",
    "    var1 = group1.var()\n",
    "    var2 = group2.var()\n",
    "    n1, n2 = len(group1), len(group2)\n",
    "    \n",
    "    pooled_var = (n1 * var1 + n2 * var2) / (n1 + n2)\n",
    "    d = diff / np.sqrt(pooled_var)\n",
    "    return d"
   ]
  },
  {
   "cell_type": "code",
   "execution_count": 10,
   "id": "71242acc",
   "metadata": {},
   "outputs": [
    {
     "data": {
      "text/plain": [
       "(38.60095173351461, 38.52291446673706)"
      ]
     },
     "execution_count": 10,
     "metadata": {},
     "output_type": "execute_result"
    }
   ],
   "source": [
    "firsts.prglngth.mean(), others.prglngth.mean()"
   ]
  },
  {
   "cell_type": "code",
   "execution_count": 14,
   "id": "9e30569d",
   "metadata": {},
   "outputs": [
    {
     "data": {
      "text/plain": [
       "0.028879044654449883"
      ]
     },
     "execution_count": 14,
     "metadata": {},
     "output_type": "execute_result"
    }
   ],
   "source": [
    "CohenEffectSize(firsts.prglngth, others.prglngth)"
   ]
  },
  {
   "cell_type": "code",
   "execution_count": 12,
   "id": "24b03dcf",
   "metadata": {},
   "outputs": [
    {
     "data": {
      "text/plain": [
       "(7.201094430437772, 7.325855614973262)"
      ]
     },
     "execution_count": 12,
     "metadata": {},
     "output_type": "execute_result"
    }
   ],
   "source": [
    "firsts.totalwgt_lb.mean(), others.totalwgt_lb.mean()"
   ]
  },
  {
   "cell_type": "code",
   "execution_count": 13,
   "id": "c83e24ae",
   "metadata": {},
   "outputs": [
    {
     "data": {
      "text/plain": [
       "-0.088672927072602"
      ]
     },
     "execution_count": 13,
     "metadata": {},
     "output_type": "execute_result"
    }
   ],
   "source": [
    "CohenEffectSize(firsts.totalwgt_lb, others.totalwgt_lb)"
   ]
  }
 ],
 "metadata": {
  "kernelspec": {
   "display_name": "Python 3 (ipykernel)",
   "language": "python",
   "name": "python3"
  },
  "language_info": {
   "codemirror_mode": {
    "name": "ipython",
    "version": 3
   },
   "file_extension": ".py",
   "mimetype": "text/x-python",
   "name": "python",
   "nbconvert_exporter": "python",
   "pygments_lexer": "ipython3",
   "version": "3.8.8"
  }
 },
 "nbformat": 4,
 "nbformat_minor": 5
}
